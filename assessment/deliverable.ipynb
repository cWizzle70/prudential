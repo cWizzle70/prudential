{
 "cells": [
  {
   "cell_type": "code",
   "execution_count": null,
   "metadata": {},
   "outputs": [],
   "source": [
    "import cProfile\n",
    "import warnings\n",
    "import numpy as np\n",
    "from math import ceil\n",
    "from typing import Any, Callable, Dict, List\n",
    "from time import time\n",
    "import matplotlib.pyplot as plt\n",
    "import pandas as pd\n",
    "import seaborn as sns\n",
    "from pandas import DataFrame\n",
    "from sklearn.experimental import enable_iterative_imputer\n",
    "from sklearn.feature_selection import SelectFromModel\n",
    "from sklearn.impute import IterativeImputer\n",
    "from sklearn.model_selection import train_test_split\n",
    "from sklearn.preprocessing import LabelEncoder, MinMaxScaler, OneHotEncoder\n",
    "from sklearn.svm import LinearSVC\n",
    "from statsmodels.stats.outliers_influence import variance_inflation_factor\n",
    "from tabulate import tabulate\n",
    "from sklearn.linear_model import LogisticRegression\n",
    "from sklearn.ensemble import RandomForestClassifier, GradientBoostingClassifier\n",
    "from sklearn.metrics import accuracy_score, recall_score, precision_score\n",
    "from xgboost import XGBClassifier\n",
    "\n",
    "\n",
    "# silencing deprecation warnings coming from pandas\n",
    "warnings.filterwarnings(\"ignore\", category=FutureWarning)"
   ]
  },
  {
   "cell_type": "code",
   "execution_count": null,
   "metadata": {},
   "outputs": [],
   "source": [
    "# Load the data\n",
    "df = pd.read_csv('./data.csv')"
   ]
  },
  {
   "cell_type": "code",
   "execution_count": null,
   "metadata": {},
   "outputs": [],
   "source": [
    "# Display all column names\n",
    "col_names = [df.columns[i:i+8] for i in range(0, len(df.columns), 8)]\n",
    "print(tabulate(col_names))"
   ]
  },
  {
   "cell_type": "code",
   "execution_count": null,
   "metadata": {},
   "outputs": [],
   "source": [
    "# Basic description of the dataset\n",
    "divider = '-' * 120\n",
    "num_rows, num_cols = df.shape\n",
    "\n",
    "pd.set_option('display.max_columns', None)\n",
    "\n",
    "print(f'{divider}\\n\\nNumber of rows: {num_rows}')\n",
    "print(f'Number of columns: {num_cols}\\n')\n",
    "print(f'{divider}\\n\\nDescription:\\n{df.describe()}\\n')\n",
    "print(f'{divider}\\n\\nHead:\\n{df.head()}\\n')"
   ]
  },
  {
   "cell_type": "code",
   "execution_count": null,
   "metadata": {},
   "outputs": [],
   "source": [
    "# Frequency Distribution of the Response column\n",
    "response_frequency = df['Response'].value_counts()\n",
    "plt.figure(figsize=(5,4))\n",
    "response_frequency.sort_index().plot(kind='bar', colormap='summer')\n",
    "plt.title('Frequency of Response Category')\n",
    "plt.xlabel('Response')\n",
    "plt.ylabel('Frequency')\n",
    "plt.grid(axis='y')"
   ]
  },
  {
   "cell_type": "code",
   "execution_count": null,
   "metadata": {},
   "outputs": [],
   "source": [
    "# Frequency of different data types in the dataset\n",
    "data_types = df.dtypes.value_counts()\n",
    "data_types.index = data_types.index.astype(str)\n",
    "\n",
    "plt.figure(figsize=(5,4))\n",
    "bars = plt.bar(data_types.index, data_types)\n",
    "\n",
    "for bar in bars:\n",
    "    y = bar.get_height()\n",
    "    plt.text(x=bar.get_x() + bar.get_width()/2, y=y+5, s=y, ha='center')\n",
    "\n",
    "plt.xlabel('Data Types')\n",
    "plt.ylabel('Count')\n",
    "plt.title('Data Types Count')\n",
    "plt.grid(axis='y')"
   ]
  },
  {
   "cell_type": "code",
   "execution_count": null,
   "metadata": {},
   "outputs": [],
   "source": [
    "# Show the correlation between bio metrics and response with a heatmap\n",
    "biometrics_correlation = df[['Ins_Age', 'Ht', 'Wt', 'BMI', 'Response']].corr()\n",
    "\n",
    "plt.figure(figsize=(5,4))\n",
    "sns.heatmap(biometrics_correlation, cmap='coolwarm', annot=True, fmt=\".2f\")\n",
    "plt.title('Bio Metrics and Response Correlation Heat Map')\n",
    "plt.show()"
   ]
  },
  {
   "cell_type": "code",
   "execution_count": null,
   "metadata": {},
   "outputs": [],
   "source": [
    "# The 20 most highly correlated columns plotted on a heatmap\n",
    "df['Product_Info_2'] = pd.factorize(df['Product_Info_2'])[0]\n",
    "correlations_df = df.drop('Id', axis=1).corr()\n",
    "\n",
    "average_correlation_df = correlations_df.abs().mean().sort_values(ascending=False)\n",
    "highest_corr_cols = average_correlation_df.head(20).index\n",
    "top_correlations_df = correlations_df.loc[highest_corr_cols, highest_corr_cols]\n",
    "\n",
    "plt.figure(figsize=(15, 10))\n",
    "sns.heatmap(top_correlations_df, cmap='coolwarm', annot=True, fmt=\".2f\")\n",
    "plt.title('Most highly correlated columns')"
   ]
  },
  {
   "cell_type": "code",
   "execution_count": null,
   "metadata": {},
   "outputs": [],
   "source": [
    "# Show the correlation of the most influential columns on Response\n",
    "response_correlations = df.corr()['Response'].sort_values(ascending=False)\n",
    "top_correlations = pd.concat([response_correlations.head(11), response_correlations.tail(10)])\n",
    "\n",
    "plt.figure(figsize=(15, 10))\n",
    "top_correlations.drop('Response').plot(kind='bar')\n",
    "plt.title('Columns correlated with Response')\n",
    "plt.xlabel('Columns')\n",
    "plt.ylabel('Correlation')\n",
    "plt.grid(axis='y')\n",
    "plt.show()"
   ]
  },
  {
   "cell_type": "code",
   "execution_count": null,
   "metadata": {},
   "outputs": [],
   "source": [
    "def plot(dataframe: DataFrame, payload: Dict[str, List[List[str]]], num_cols: int=2) -> None:\n",
    "    \"\"\"\n",
    "    Create a series of plots for specified columns against Response\n",
    "\n",
    "    Args:\n",
    "        dataframe: DataFrame\n",
    "            A pandas dataframe containing the dataset\n",
    "\n",
    "        plots: Dict[str, List[List[str]]]\n",
    "            A dictionary containing a mapping of plot_type to 2D list of columns to be plotted\n",
    "\n",
    "        num_cols: int\n",
    "            Number of columns to be displayed in the final figure\n",
    "\n",
    "    Returns:\n",
    "        None\n",
    "\n",
    "    Raises:\n",
    "        ValueError\n",
    "            When an invalid plot_type is provided\n",
    "    \"\"\"\n",
    "    title_number = 1\n",
    "\n",
    "    for plot in payload.keys():\n",
    "        \n",
    "        for target_columns in payload[plot]:\n",
    "            num_target_cols = len(target_columns)\n",
    "            num_cols = num_target_cols if num_target_cols < num_cols else num_cols\n",
    "            num_rows = ceil(num_target_cols/num_cols)\n",
    "            fig, axes = plt.subplots(nrows=num_rows, ncols=num_cols, figsize=(15, 5*num_rows))\n",
    "            axes = axes.ravel()\n",
    "            plt.suptitle('Figure_' + str(title_number), fontsize=16)\n",
    "            title_number += 1\n",
    "\n",
    "            if leftover_plots := len(axes) - num_target_cols:\n",
    "                for i in range(1, leftover_plots+1):\n",
    "                    fig.delaxes(axes[-i])\n",
    "\n",
    "            for i, col in enumerate(target_columns):\n",
    "                if plot == 'violin':\n",
    "                    sns.violinplot(data=dataframe, x=col, y=\"Response\", ax=axes[i], palette='viridis')\n",
    "\n",
    "                elif plot == 'kde':\n",
    "                    sns.kdeplot(data=dataframe, x=col, ax=axes[i], hue='Response', fill=True, alpha=0.05, palette='viridis')\n",
    "\n",
    "                elif plot == 'histogram':\n",
    "                    sns.histplot(data=dataframe, x=col, kde=True, ax=axes[i])\n",
    "\n",
    "                elif plot == 'countplot':\n",
    "                    sns.countplot(data=dataframe, x=col, palette='viridis', ax=axes[i])\n",
    "\n",
    "                else:\n",
    "                    raise ValueError(f'Plot type \\'{plot}\\' is not supported')"
   ]
  },
  {
   "cell_type": "code",
   "execution_count": null,
   "metadata": {},
   "outputs": [],
   "source": [
    "payload = {\n",
    "    'kde': [\n",
    "        ['Ins_Age', 'Ht', 'Wt', 'BMI'],\n",
    "        ['Product_Info_3', 'Product_Info_4'],\n",
    "        list(df.filter(regex=f'^Insurance_History_\\d+$').columns),\n",
    "        list(df.filter(regex=f'^Family_Hist_\\d+$').columns)\n",
    "    ],\n",
    "    'violin': [\n",
    "        ['Product_Info_1','Product_Info_5','Product_Info_6','Product_Info_7']\n",
    "    ],\n",
    "    'histogram': [\n",
    "        ['Ins_Age', 'Ht', 'Wt', 'BMI']\n",
    "    ],\n",
    "    'countplot': [\n",
    "        list(df.filter(regex=f'^InsuredInfo_\\d+$').columns)\n",
    "    ]\n",
    "}\n",
    "\n",
    "# plot(df, payload)"
   ]
  },
  {
   "cell_type": "code",
   "execution_count": null,
   "metadata": {},
   "outputs": [],
   "source": [
    "def missing_values(dataframe: DataFrame, plot: bool=True) -> None:\n",
    "    \"\"\"\n",
    "    Calculate and plot the number and percentage of missing values per column\n",
    "\n",
    "    Args:\n",
    "        dataframe: DataFrame\n",
    "            A pandas DataFrame\n",
    "\n",
    "        plot: bool\n",
    "            Default: True\n",
    "            Set to False if you do not want to\n",
    "            plot sum and percentage of missing values\n",
    "\n",
    "    Returns:\n",
    "        DataFrame:\n",
    "            A dataframe containing the number and\n",
    "            percantage of missing values per column\n",
    "    \"\"\"\n",
    "    # Find missing values. Sum the result and calculate percentages\n",
    "    cols_with_missing_values = [col for col in dataframe.columns if dataframe[col].isna().any()]\n",
    "    missing_vals = dataframe[cols_with_missing_values].isna().sum().sort_values()\n",
    "    missing_percentages = round(missing_vals / len(dataframe) * 100, 2)\n",
    "    missing_vals_df = pd.DataFrame({'Num_Missing': missing_vals, 'Percentages': missing_percentages})\n",
    "\n",
    "    if plot:\n",
    "        # Plot the total number of missing values\n",
    "        _, ax = plt.subplots(figsize=(15,10))\n",
    "        ax.bar(missing_vals.index, missing_vals.values)\n",
    "        ax.set_ylabel('Number of missing values')\n",
    "        ax.set_xticks(range(len(missing_vals)))\n",
    "        ax.set_xticklabels(missing_vals.index, rotation=45, ha='right')\n",
    "        ax.grid(axis='y')\n",
    "\n",
    "        # Overlay the corresponding percentages\n",
    "        ax_secondary = ax.twinx()\n",
    "        ax_secondary.plot(missing_vals_df.index, missing_percentages, color='red', marker='x')\n",
    "        ax_secondary.set_ylabel('Percentage of missing values', color='red')\n",
    "        ax_secondary.tick_params(axis='y', color='red')\n",
    "\n",
    "    return(missing_vals_df)"
   ]
  },
  {
   "cell_type": "code",
   "execution_count": null,
   "metadata": {},
   "outputs": [],
   "source": [
    "# Analyse missing values in the dataset\n",
    "print(missing_values(df))"
   ]
  },
  {
   "cell_type": "code",
   "execution_count": null,
   "metadata": {},
   "outputs": [],
   "source": [
    "# Separate the data into train, validate and test\n",
    "x_df = df.drop(['Response'], axis=1)\n",
    "y_df = df['Response']\n",
    "\n",
    "x_temp, x_test, y_temp, y_test = train_test_split(x_df, y_df, test_size=0.2, random_state=0, stratify=y_df)\n",
    "x_train, x_validate, y_train, y_validate = train_test_split(x_temp, y_temp, test_size=0.25, random_state=0, stratify=y_temp)\n",
    "\n",
    "print(f'x_train:\\t{str(x_train.shape):>10}')\n",
    "print(f'x_validate:\\t{str(x_validate.shape):>10}')\n",
    "print(f'x_test:\\t\\t{str(x_test.shape):>10}')\n",
    "print(f'\\ny_train:\\t{str(y_train.shape):>10}')\n",
    "print(f'y_validate:\\t{str(y_validate.shape):>10}')\n",
    "print(f'y_test:\\t\\t{str(y_test.shape):>10}')\n"
   ]
  },
  {
   "cell_type": "code",
   "execution_count": null,
   "metadata": {},
   "outputs": [],
   "source": [
    "# Ensure an even distribution of Response values across training, validation and test data\n",
    "response_distribution = {\n",
    "    \"Original\": y_df.value_counts(normalize=True),\n",
    "    \"Training\": y_train.value_counts(normalize=True),\n",
    "    \"Validation\": y_validate.value_counts(normalize=True),\n",
    "    \"Testing\": y_test.value_counts(normalize=True)\n",
    "}\n",
    "\n",
    "response_distribution_df = pd.DataFrame(response_distribution).sort_index()\n",
    "\n",
    "plt.figure(figsize=(15, 10))\n",
    "response_distribution_df.plot(kind='bar', colormap='Spectral')\n",
    "plt.title('Dsitribution of Response values across Training, Validation and Test data')\n",
    "plt.ylabel('Proportion')\n",
    "plt.xlabel('Response Category')\n",
    "plt.xticks(rotation=0)\n",
    "plt.grid(axis='y')\n",
    "plt.tight_layout()"
   ]
  },
  {
   "cell_type": "code",
   "execution_count": null,
   "metadata": {},
   "outputs": [],
   "source": [
    "# Analyse the missing values in training data\n",
    "x_train_missing_values = missing_values(x_train)\n",
    "print(x_train_missing_values)"
   ]
  },
  {
   "cell_type": "code",
   "execution_count": null,
   "metadata": {},
   "outputs": [],
   "source": [
    "# Remove columns from training data that contain too many missing values\n",
    "# Setting the missing values threshold at 40%\n",
    "percentage_threshold = 40\n",
    "invalid_cols = [col for col in x_train_missing_values.index if x_train_missing_values.loc[col, 'Percentages'] > percentage_threshold]\n",
    "\n",
    "for x in [x_train, x_validate, x_test]:\n",
    "    x.drop(invalid_cols, axis=1, inplace=True)\n",
    "\n"
   ]
  },
  {
   "cell_type": "code",
   "execution_count": null,
   "metadata": {},
   "outputs": [],
   "source": [
    "# Use iterative imputation to fill in missing values in training, validation and test data\n",
    "cols_for_impute = missing_values(x_train, plot=False).index\n",
    "\n",
    "x_train_impute = x_train[cols_for_impute]\n",
    "x_validate_impute = x_validate[cols_for_impute]\n",
    "x_test_impute = x_test[cols_for_impute]\n",
    "\n",
    "x_train_no_impute = x_train.drop(cols_for_impute, axis=1)\n",
    "x_validate_no_impute = x_validate.drop(cols_for_impute, axis=1)\n",
    "x_test_no_impute = x_test.drop(cols_for_impute, axis=1)\n",
    "\n",
    "imputer = IterativeImputer(random_state=0)\n",
    "\n",
    "x_train_post_impute = pd.DataFrame(imputer.fit_transform(x_train_impute), columns=x_train_impute.columns)\n",
    "x_validate_post_impute = pd.DataFrame(imputer.transform(x_validate_impute), columns=x_validate_impute.columns)\n",
    "x_test_post_impute = pd.DataFrame(imputer.transform(x_test_impute), columns=x_test_impute.columns)\n",
    "\n",
    "x_train_post_impute.index = x_train_no_impute.index\n",
    "x_validate_post_impute.index = x_validate_no_impute.index\n",
    "x_test_post_impute.index = x_test_no_impute.index\n",
    "\n",
    "x_train_imputed = pd.concat([x_train_no_impute, x_train_post_impute], axis=1)\n",
    "x_validate_imputed = pd.concat([x_validate_no_impute, x_validate_post_impute], axis=1)\n",
    "x_test_imputed = pd.concat([x_test_no_impute, x_test_post_impute], axis=1)"
   ]
  },
  {
   "cell_type": "code",
   "execution_count": null,
   "metadata": {},
   "outputs": [],
   "source": [
    "# Product_Info_2 contains nominal data so we'll convert it to binary data in our train, validate and test data using One Hot Encoding\n",
    "encoder = OneHotEncoder(handle_unknown='ignore', sparse=False)\n",
    "product_info_2 = ['Product_Info_2']\n",
    "\n",
    "encoded_x_train = pd.DataFrame(encoder.fit_transform(x_train_imputed[product_info_2]))\n",
    "encoded_x_validate = pd.DataFrame(encoder.transform(x_validate_imputed[product_info_2]))\n",
    "encoded_x_test = pd.DataFrame(encoder.transform(x_test_imputed[product_info_2]))\n",
    "\n",
    "encoded_x_train.index = x_train_imputed.index\n",
    "encoded_x_validate.index = x_validate_imputed.index\n",
    "encoded_x_test.index = x_test_imputed.index\n",
    "\n",
    "encoded_x_train.columns = encoder.get_feature_names_out(product_info_2)\n",
    "encoded_x_validate.columns = encoder.get_feature_names_out(product_info_2)\n",
    "encoded_x_test.columns = encoder.get_feature_names_out(product_info_2)\n",
    "\n",
    "x_train_imputed = x_train_imputed.drop(product_info_2, axis=1)\n",
    "x_validate_imputed = x_validate_imputed.drop(product_info_2, axis=1)\n",
    "x_test_imputed = x_test_imputed.drop(product_info_2, axis=1)\n",
    "\n",
    "x_train_imputed.set_index('Id')\n",
    "x_validate_imputed.set_index('Id')\n",
    "x_test_imputed.set_index('Id')\n",
    "\n",
    "encoded_x_train.index = x_train_imputed.index\n",
    "encoded_x_validate.index = x_validate_imputed.index\n",
    "encoded_x_test.index = x_test_imputed.index\n",
    "\n",
    "x_train_encoded_df = pd.concat([x_train_imputed, encoded_x_train], axis=1)\n",
    "x_validate_encoded_df = pd.concat([x_validate_imputed, encoded_x_validate], axis=1)\n",
    "x_test_encoded_df = pd.concat([x_test_imputed, encoded_x_test], axis=1)\n"
   ]
  },
  {
   "cell_type": "code",
   "execution_count": null,
   "metadata": {},
   "outputs": [],
   "source": [
    "# Normalize the dataset so all values are scaled between 0 and 1\n",
    "scaler = MinMaxScaler()\n",
    "scaler.fit(x_train_encoded_df)\n",
    "\n",
    "encoded_dfs = [x_train_encoded_df, x_validate_encoded_df, x_test_encoded_df]\n",
    "x_train_norm, x_valid_norm, x_test_norm = [pd.DataFrame(scaler.transform(x), index=x.index, columns=x.columns) for x in encoded_dfs]"
   ]
  },
  {
   "cell_type": "code",
   "execution_count": null,
   "metadata": {},
   "outputs": [],
   "source": [
    "# Calculate Variance Inflation Factor (VIF) to determine multicollinearity within the dataset\n",
    "# Multicollinearity is a strong correlation between predictors that can inversely affect regression analysis\n",
    "vif = pd.DataFrame()\n",
    "vif['Features'] = x_train_norm.columns\n",
    "vif['VIF_Score'] = [variance_inflation_factor(x_train_norm.values, i) for i in range(x_train_norm.shape[1])]"
   ]
  },
  {
   "cell_type": "code",
   "execution_count": null,
   "metadata": {},
   "outputs": [],
   "source": [
    "# List features with a VIF score above 10 and plot VIF findings\n",
    "# Note: VIF thresholds generally vary between 5 and 10\n",
    "vif_threshold = 10\n",
    "vif_over_ten = vif.loc[vif['VIF_Score'] > vif_threshold]\n",
    "\n",
    "pd.set_option('display.max_rows', len(vif_over_ten))\n",
    "print(vif_over_ten)\n",
    "vif.plot()\n",
    "pd.reset_option('display.max_rows')"
   ]
  },
  {
   "cell_type": "code",
   "execution_count": null,
   "metadata": {},
   "outputs": [],
   "source": [
    "# Use Least Absolute Shrinkage and Selection Operator (LASSO) feature selection to select the most relevant feature in the dataset\n",
    "\n",
    "# Create the LASSO model \n",
    "linearsvc = LinearSVC(penalty=\"l1\", dual=False, tol=0.001, C=0.01, random_state=0, max_iter=10000).fit(x_train_norm, y_train)\n",
    "model = SelectFromModel(linearsvc, prefit=True)\n",
    "\n",
    "# Remove features with a varience coefficient of zero\n",
    "x_train_lasso = pd.DataFrame(model.transform(x_train_norm))\n",
    "\n",
    "# Convert x_train_lasso back into its original shape then create new datasets with the selected features\n",
    "selected_features = pd.DataFrame(model.inverse_transform(x_train_lasso), index=x_train_norm.index, columns=x_train_norm.columns)\n",
    "x_train_lasso = selected_features.drop(selected_features.columns[selected_features.var() == 0], axis=1)\n",
    "selected_columns = selected_features.columns[selected_features.var() != 0]\n",
    "\n",
    "x_valid_lasso = x_valid_norm[selected_columns]\n",
    "x_test_lasso = x_test_norm[selected_columns]\n",
    "\n",
    "# The number of features has been reduced from 137 to 83\n",
    "print(x_train_lasso.shape)"
   ]
  },
  {
   "cell_type": "code",
   "execution_count": null,
   "metadata": {},
   "outputs": [],
   "source": [
    "# Logistic regression model\n",
    "model_1 = LogisticRegression(random_state=0, solver='liblinear')\n",
    "\n",
    "# Decision Tree\n",
    "model_2 = RandomForestClassifier(n_jobs=-1, random_state=0)\n",
    "\n",
    "# Gradient Boosting\n",
    "model_3 = GradientBoostingClassifier(random_state=0)\n",
    "\n",
    "# Extreme Gradient Boosting\n",
    "model_4 = XGBClassifier(random_state=0, n_jobs=-1, eval_metric=\"merror\")\n",
    "\n",
    "models = [model_1, model_2, model_3, model_4]"
   ]
  },
  {
   "cell_type": "code",
   "execution_count": null,
   "metadata": {},
   "outputs": [],
   "source": [
    "label_encoder = LabelEncoder()\n",
    "\n",
    "# Convert each set of class labels (1-8) into encoded labels (0-7).\n",
    "y_train = label_encoder.fit_transform(y_train)\n",
    "y_valid = label_encoder.transform(y_validate)\n",
    "y_test = label_encoder.transform(y_test)"
   ]
  },
  {
   "cell_type": "code",
   "execution_count": null,
   "metadata": {},
   "outputs": [],
   "source": [
    "# Simple decorator that will be used to time the training of models\n",
    "def timer(func: Callable) -> Any:\n",
    "    \"\"\"\n",
    "    A decorator used to time the execution of a function,\n",
    "    specifically the train function\n",
    "\n",
    "    Args:\n",
    "        func: Callable\n",
    "            The function to be executed and timed\n",
    "\n",
    "    Returns:\n",
    "        Any:\n",
    "            The result of func\n",
    "    \"\"\"\n",
    "    def wrap_func(*args, **kwargs):\n",
    "        start = time()\n",
    "        result = func(*args, **kwargs)\n",
    "        end = time()\n",
    "        duration = f'{int((end-start) / 60)}mins {int((end-start) % 60)}seconds'\n",
    "        print(f'{args[0].__class__.__name__} model trained in {duration}')\n",
    "        return result\n",
    "    return wrap_func"
   ]
  },
  {
   "cell_type": "code",
   "execution_count": null,
   "metadata": {},
   "outputs": [],
   "source": [
    "# Function to train the models\n",
    "@timer\n",
    "def train(model: Any, x_train: DataFrame, y_train: DataFrame) -> None:\n",
    "    \"\"\"Train a model\n",
    "    \n",
    "    Args:\n",
    "        model: Any\n",
    "            The model to be trained\n",
    "            \n",
    "        x_train: DataFrame\n",
    "            A pandas dataFrame containing the training data\n",
    "            \n",
    "        y_train: DataFrame\n",
    "            A pandas DataFrame containing the target data\n",
    "\n",
    "    Returns:\n",
    "        None\n",
    "    \"\"\"\n",
    "    model.fit(x_train, y_train)"
   ]
  },
  {
   "cell_type": "code",
   "execution_count": null,
   "metadata": {},
   "outputs": [],
   "source": [
    "# Train each of the models\n",
    "for model in models:\n",
    "    train(model, x_train_lasso, y_train)"
   ]
  },
  {
   "cell_type": "code",
   "execution_count": null,
   "metadata": {},
   "outputs": [],
   "source": [
    "# Calculate category probablities\n",
    "model_predictions = []\n",
    "\n",
    "for model in models:\n",
    "    model_predictions.append(model.predict_proba(x_test_lasso))"
   ]
  },
  {
   "cell_type": "code",
   "execution_count": null,
   "metadata": {},
   "outputs": [],
   "source": [
    "# Convert the probability predictions to categories (1-8)\n",
    "models_and_predictions = dict(zip(models, model_predictions))\n",
    "test_predictions = []\n",
    "\n",
    "for model, pred in models_and_predictions.items():\n",
    "    preds = np.argmax(pred, axis=1)\n",
    "    classes = model.classes_\n",
    "    preds = [classes[i] for i in preds]\n",
    "    test_predictions.append(label_encoder.inverse_transform(preds))"
   ]
  },
  {
   "cell_type": "code",
   "execution_count": null,
   "metadata": {},
   "outputs": [],
   "source": [
    "# Convert the target variables encoded values back to original values\n",
    "y_test = label_encoder.inverse_transform(y_test)"
   ]
  },
  {
   "cell_type": "code",
   "execution_count": null,
   "metadata": {},
   "outputs": [],
   "source": [
    "# Calculate the performance of the models based on accuracy, precision and recall\n",
    "model_names = [model.__class__.__name__ for model in models]\n",
    "\n",
    "scores = {\n",
    "    \"Accuracy\": [],\n",
    "    \"Precision\": [],\n",
    "    \"Recall\": [],\n",
    "}\n",
    "\n",
    "for predictions in test_predictions:\n",
    "    scores[\"Accuracy\"].append(accuracy_score(y_test, predictions))\n",
    "    scores[\"Precision\"].append(precision_score(y_test, predictions, average='weighted', zero_division=0))\n",
    "    scores[\"Recall\"].append(recall_score(y_test, predictions, average='weighted', zero_division=0))"
   ]
  },
  {
   "cell_type": "code",
   "execution_count": 226,
   "metadata": {},
   "outputs": [
    {
     "data": {
      "image/png": "[encoded data removed]",
      "text/plain": [
       "<Figure size 1500x500 with 1 Axes>"
      ]
     },
     "metadata": {},
     "output_type": "display_data"
    }
   ],
   "source": [
    "# Plot the results\n",
    "bar_width = 0.1\n",
    "acc = np.arange(len(scores[\"Accuracy\"]))\n",
    "prec = [x + bar_width for x in acc]\n",
    "rec = [x + bar_width for x in prec]\n",
    "\n",
    "plt.figure(figsize=(15,5))\n",
    "\n",
    "plt.bar(acc, scores[\"Accuracy\"], width=bar_width, label='Accuracy')\n",
    "plt.bar(prec, scores[\"Precision\"], width=bar_width, label='Precision')\n",
    "plt.bar(rec, scores[\"Recall\"], width=bar_width, label='Recall')\n",
    "\n",
    "plt.title('Model Performance')\n",
    "plt.xlabel('Models', fontsize=16)\n",
    "plt.xticks([i + bar_width for i in range(len(scores[\"Accuracy\"]))], model_names)\n",
    "plt.legend()\n",
    "\n",
    "df = pd.DataFrame(scores, index=model_names)"
   ]
  },
  {
   "cell_type": "code",
   "execution_count": null,
   "metadata": {},
   "outputs": [],
   "source": []
  }
 ],
 "metadata": {
  "kernelspec": {
   "display_name": ".venv",
   "language": "python",
   "name": "python3"
  },
  "language_info": {
   "codemirror_mode": {
    "name": "ipython",
    "version": 3
   },
   "file_extension": ".py",
   "mimetype": "text/x-python",
   "name": "python",
   "nbconvert_exporter": "python",
   "pygments_lexer": "ipython3",
   "version": "3.11.5"
  },
  "orig_nbformat": 4
 },
 "nbformat": 4,
 "nbformat_minor": 2
}
